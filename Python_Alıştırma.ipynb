{
  "nbformat": 4,
  "nbformat_minor": 0,
  "metadata": {
    "colab": {
      "provenance": []
    },
    "kernelspec": {
      "name": "python3",
      "display_name": "Python 3"
    },
    "language_info": {
      "name": "python"
    }
  },
  "cells": [
    {
      "cell_type": "code",
      "execution_count": 27,
      "metadata": {
        "colab": {
          "base_uri": "https://localhost:8080/"
        },
        "id": "lqRtA3ksmkMy",
        "outputId": "5980d76f-df90-41a6-ccde-8cb734849406"
      },
      "outputs": [
        {
          "output_type": "stream",
          "name": "stdout",
          "text": [
            "Anaparanızı Giriniz: 5\n",
            "Faiz Oranını Giriniz:1\n",
            "1 yıl sonra başlangıç yatırımı ikiye katlanacaktır.\n"
          ]
        }
      ],
      "source": [
        "#Alıştırma 1\n",
        "para=float(input(\"Anaparanızı Giriniz: \"))\n",
        "faizoranı=float(input(\"Faiz Oranını Giriniz:\"))\n",
        "hedef=para*2\n",
        "yilsayisi=0\n",
        "while para<hedef:\n",
        "  para+=para*faizoranı\n",
        "  yilsayisi+=1\n",
        "print(f\"{yilsayisi} yıl sonra başlangıç yatırımı ikiye katlanacaktır.\")"
      ]
    },
    {
      "cell_type": "code",
      "source": [
        "#Alıştırma 2\n",
        "baslangic=int(input(\"Başklangıç Mikroorganızma Sayısını Giriniz: \"))\n",
        "hedef=1000000\n",
        "gecensaatler=0\n",
        "\n",
        "while baslangic < hedef:\n",
        "    baslangic*=2\n",
        "    gecensaatler+=10\n",
        "\n",
        "gunler =gecensaatler//24\n",
        "kalansaatler=gecensaatler%24\n",
        "print(f\"{hedef} mikroorganizmaya ulaşmak için {gunler} gün {kalansaatler} saat gereklidir.\")\n",
        ""
      ],
      "metadata": {
        "colab": {
          "base_uri": "https://localhost:8080/"
        },
        "id": "pM-PI3pvosvE",
        "outputId": "c4213324-27ac-480e-a663-d7415ab01f1f"
      },
      "execution_count": 16,
      "outputs": [
        {
          "output_type": "stream",
          "name": "stdout",
          "text": [
            "Başklangıç Mikroorganızma Sayısını Giriniz: 15\n",
            "1000000 mikroorganizmaya ulaşmak için 7 gün 2 saat gereklidir.\n"
          ]
        }
      ]
    },
    {
      "cell_type": "code",
      "source": [
        "# Alıştırma 3\n",
        "import random\n",
        "rndsayi=random.randint(1,10)\n",
        "tahmin=0\n",
        "print(\"1 İle 10 Arasında Sayı Giriniz:\")\n",
        "\n",
        "while True:\n",
        " tahminet=int(input(\"Tahmin Giriniz: \"))\n",
        " tahmin+=1\n",
        " if tahmin==hedef:\n",
        "    print(f\"Tebrikler! {hedef} sayısını doğru tahmin ettiniz\")\n",
        "    print(f\"{tahmin} tahinde bulundunuz\")\n",
        "    break\n",
        " if tahmin < hedef:\n",
        "    print(\"Daha Büyük bir sayı giriniz.\")\n",
        " else:\n",
        "    print(\"Daha Küçük Bir Sayı Giriniz.\")"
      ],
      "metadata": {
        "id": "XXk5phZ7sAOv"
      },
      "execution_count": null,
      "outputs": []
    },
    {
      "cell_type": "code",
      "source": [
        "# Alıştırma 4\n",
        "top=0\n",
        "adet=0\n",
        "while True:\n",
        "  try:\n",
        "    sayi=int(input(\"Pozitif bir tam sayı giriniz(Çıkmak için negatif sayı giriniz):\"))\n",
        "    if sayi<0:\n",
        "      break\n",
        "    top+=sayi\n",
        "    adet+=1\n",
        "  except ValueError:\n",
        "    print(\"Geçerli Bir Tamsayı Giriniz:\")\n",
        "if adet>0:\n",
        "  ort=top/adet\n",
        "  print(f\"Girdiğiniz sayıların ortalaması:{ort:.2f}\")\n",
        "else:\n",
        "  print(\"Hiç pozitif tamsayı Girmediniz:\")"
      ],
      "metadata": {
        "colab": {
          "base_uri": "https://localhost:8080/"
        },
        "id": "bAU5URbOy7G6",
        "outputId": "6f040439-2e07-4eac-86e4-8d84f3875501"
      },
      "execution_count": 23,
      "outputs": [
        {
          "output_type": "stream",
          "name": "stdout",
          "text": [
            "Pozitif bir tam sayı giriniz(Çıkmak için negatif sayı giriniz):15\n",
            "Pozitif bir tam sayı giriniz(Çıkmak için negatif sayı giriniz):25\n",
            "Pozitif bir tam sayı giriniz(Çıkmak için negatif sayı giriniz):45\n",
            "Pozitif bir tam sayı giriniz(Çıkmak için negatif sayı giriniz):85\n",
            "Pozitif bir tam sayı giriniz(Çıkmak için negatif sayı giriniz):-1\n",
            "Girdiğiniz sayıların ortalaması:42.50\n"
          ]
        }
      ]
    }
  ]
}